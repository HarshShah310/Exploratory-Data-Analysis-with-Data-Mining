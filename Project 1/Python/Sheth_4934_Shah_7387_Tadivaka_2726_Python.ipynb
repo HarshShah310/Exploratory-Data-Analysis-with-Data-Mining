{
 "cells": [
  {
   "cell_type": "markdown",
   "id": "5b262325",
   "metadata": {},
   "source": [
    "# Assignment 1 - Exploratory Data Analysis"
   ]
  },
  {
   "cell_type": "markdown",
   "id": "32a55338",
   "metadata": {},
   "source": [
    "## Instructions"
   ]
  },
  {
   "cell_type": "markdown",
   "id": "b94be1e7",
   "metadata": {},
   "source": [
    "For the First Assignment, we are going to be Performing Exploratory Data Analysis Using Python, R and Weka.\n",
    "\n",
    "1. There are set of questions that may be similar for python and R but may be different for Weka.\n",
    "2. The dataset used for Python/R are same but different for Weka.\n",
    "3. For Task involving R use a different R notebook.\n",
    "3. Each Task is presenting a challenge."
   ]
  },
  {
   "cell_type": "markdown",
   "id": "e02f0d58",
   "metadata": {},
   "source": [
    "TEAM 18: Sheth, Urmi Manish(1002064934), Shah, Harsh Navinbhai (1002057387), Tadivaka, Sai Swetha (1002112726)"
   ]
  },
  {
   "cell_type": "markdown",
   "id": "69b04c3b",
   "metadata": {},
   "source": [
    "## Task 1: Python (40 Points)"
   ]
  },
  {
   "cell_type": "markdown",
   "id": "6ef65b36",
   "metadata": {},
   "source": [
    "Run this cell by default to load the dataset.\n",
    "\n",
    "This tabular dataset consists of listings of all the movies and tv shows available on Netflix, along with details such as - cast, directors, ratings, release year, duration, etc."
   ]
  },
  {
   "cell_type": "code",
   "execution_count": 2,
   "id": "fc13d1c7",
   "metadata": {
    "scrolled": false
   },
   "outputs": [
    {
     "data": {
      "text/html": [
       "<div>\n",
       "<style scoped>\n",
       "    .dataframe tbody tr th:only-of-type {\n",
       "        vertical-align: middle;\n",
       "    }\n",
       "\n",
       "    .dataframe tbody tr th {\n",
       "        vertical-align: top;\n",
       "    }\n",
       "\n",
       "    .dataframe thead th {\n",
       "        text-align: right;\n",
       "    }\n",
       "</style>\n",
       "<table border=\"1\" class=\"dataframe\">\n",
       "  <thead>\n",
       "    <tr style=\"text-align: right;\">\n",
       "      <th></th>\n",
       "      <th>show_id</th>\n",
       "      <th>type</th>\n",
       "      <th>title</th>\n",
       "      <th>director</th>\n",
       "      <th>cast</th>\n",
       "      <th>country</th>\n",
       "      <th>date_added</th>\n",
       "      <th>release_year</th>\n",
       "      <th>rating</th>\n",
       "      <th>duration</th>\n",
       "      <th>listed_in</th>\n",
       "      <th>description</th>\n",
       "    </tr>\n",
       "  </thead>\n",
       "  <tbody>\n",
       "    <tr>\n",
       "      <th>0</th>\n",
       "      <td>s1</td>\n",
       "      <td>Movie</td>\n",
       "      <td>Dick Johnson Is Dead</td>\n",
       "      <td>Kirsten Johnson</td>\n",
       "      <td>NaN</td>\n",
       "      <td>United States</td>\n",
       "      <td>September 25, 2021</td>\n",
       "      <td>2020</td>\n",
       "      <td>PG-13</td>\n",
       "      <td>90 min</td>\n",
       "      <td>Documentaries</td>\n",
       "      <td>As her father nears the end of his life, filmm...</td>\n",
       "    </tr>\n",
       "    <tr>\n",
       "      <th>1</th>\n",
       "      <td>s2</td>\n",
       "      <td>TV Show</td>\n",
       "      <td>Blood &amp; Water</td>\n",
       "      <td>NaN</td>\n",
       "      <td>Ama Qamata, Khosi Ngema, Gail Mabalane, Thaban...</td>\n",
       "      <td>South Africa</td>\n",
       "      <td>September 24, 2021</td>\n",
       "      <td>2021</td>\n",
       "      <td>TV-MA</td>\n",
       "      <td>2 Seasons</td>\n",
       "      <td>International TV Shows, TV Dramas, TV Mysteries</td>\n",
       "      <td>After crossing paths at a party, a Cape Town t...</td>\n",
       "    </tr>\n",
       "    <tr>\n",
       "      <th>2</th>\n",
       "      <td>s3</td>\n",
       "      <td>TV Show</td>\n",
       "      <td>Ganglands</td>\n",
       "      <td>Julien Leclercq</td>\n",
       "      <td>Sami Bouajila, Tracy Gotoas, Samuel Jouy, Nabi...</td>\n",
       "      <td>NaN</td>\n",
       "      <td>September 24, 2021</td>\n",
       "      <td>2021</td>\n",
       "      <td>TV-MA</td>\n",
       "      <td>1 Season</td>\n",
       "      <td>Crime TV Shows, International TV Shows, TV Act...</td>\n",
       "      <td>To protect his family from a powerful drug lor...</td>\n",
       "    </tr>\n",
       "    <tr>\n",
       "      <th>3</th>\n",
       "      <td>s4</td>\n",
       "      <td>TV Show</td>\n",
       "      <td>Jailbirds New Orleans</td>\n",
       "      <td>NaN</td>\n",
       "      <td>NaN</td>\n",
       "      <td>NaN</td>\n",
       "      <td>September 24, 2021</td>\n",
       "      <td>2021</td>\n",
       "      <td>TV-MA</td>\n",
       "      <td>1 Season</td>\n",
       "      <td>Docuseries, Reality TV</td>\n",
       "      <td>Feuds, flirtations and toilet talk go down amo...</td>\n",
       "    </tr>\n",
       "    <tr>\n",
       "      <th>4</th>\n",
       "      <td>s5</td>\n",
       "      <td>TV Show</td>\n",
       "      <td>Kota Factory</td>\n",
       "      <td>NaN</td>\n",
       "      <td>Mayur More, Jitendra Kumar, Ranjan Raj, Alam K...</td>\n",
       "      <td>India</td>\n",
       "      <td>September 24, 2021</td>\n",
       "      <td>2021</td>\n",
       "      <td>TV-MA</td>\n",
       "      <td>2 Seasons</td>\n",
       "      <td>International TV Shows, Romantic TV Shows, TV ...</td>\n",
       "      <td>In a city of coaching centers known to train I...</td>\n",
       "    </tr>\n",
       "  </tbody>\n",
       "</table>\n",
       "</div>"
      ],
      "text/plain": [
       "  show_id     type                  title         director  \\\n",
       "0      s1    Movie   Dick Johnson Is Dead  Kirsten Johnson   \n",
       "1      s2  TV Show          Blood & Water              NaN   \n",
       "2      s3  TV Show              Ganglands  Julien Leclercq   \n",
       "3      s4  TV Show  Jailbirds New Orleans              NaN   \n",
       "4      s5  TV Show           Kota Factory              NaN   \n",
       "\n",
       "                                                cast        country  \\\n",
       "0                                                NaN  United States   \n",
       "1  Ama Qamata, Khosi Ngema, Gail Mabalane, Thaban...   South Africa   \n",
       "2  Sami Bouajila, Tracy Gotoas, Samuel Jouy, Nabi...            NaN   \n",
       "3                                                NaN            NaN   \n",
       "4  Mayur More, Jitendra Kumar, Ranjan Raj, Alam K...          India   \n",
       "\n",
       "           date_added  release_year rating   duration  \\\n",
       "0  September 25, 2021          2020  PG-13     90 min   \n",
       "1  September 24, 2021          2021  TV-MA  2 Seasons   \n",
       "2  September 24, 2021          2021  TV-MA   1 Season   \n",
       "3  September 24, 2021          2021  TV-MA   1 Season   \n",
       "4  September 24, 2021          2021  TV-MA  2 Seasons   \n",
       "\n",
       "                                           listed_in  \\\n",
       "0                                      Documentaries   \n",
       "1    International TV Shows, TV Dramas, TV Mysteries   \n",
       "2  Crime TV Shows, International TV Shows, TV Act...   \n",
       "3                             Docuseries, Reality TV   \n",
       "4  International TV Shows, Romantic TV Shows, TV ...   \n",
       "\n",
       "                                         description  \n",
       "0  As her father nears the end of his life, filmm...  \n",
       "1  After crossing paths at a party, a Cape Town t...  \n",
       "2  To protect his family from a powerful drug lor...  \n",
       "3  Feuds, flirtations and toilet talk go down amo...  \n",
       "4  In a city of coaching centers known to train I...  "
      ]
     },
     "execution_count": 2,
     "metadata": {},
     "output_type": "execute_result"
    }
   ],
   "source": [
    "import pandas as pd\n",
    "\n",
    "movies_data = pd.read_csv(\"netflix_titles.csv\")\n",
    "\n",
    "movies_data.head()"
   ]
  },
  {
   "cell_type": "markdown",
   "id": "02461298",
   "metadata": {},
   "source": [
    "### Task 1A: 2 points\n",
    "Display all the details about the dataset"
   ]
  },
  {
   "cell_type": "code",
   "execution_count": 15,
   "id": "00fe6156",
   "metadata": {},
   "outputs": [
    {
     "name": "stdout",
     "output_type": "stream",
     "text": [
      "Top 5 records:\n",
      "   show_id     type                  title         director  \\\n",
      "0      s1    Movie   Dick Johnson Is Dead  Kirsten Johnson   \n",
      "1      s2  TV Show          Blood & Water              NaN   \n",
      "2      s3  TV Show              Ganglands  Julien Leclercq   \n",
      "3      s4  TV Show  Jailbirds New Orleans              NaN   \n",
      "4      s5  TV Show           Kota Factory              NaN   \n",
      "\n",
      "                                                cast        country  \\\n",
      "0                                                NaN  United States   \n",
      "1  Ama Qamata, Khosi Ngema, Gail Mabalane, Thaban...   South Africa   \n",
      "2  Sami Bouajila, Tracy Gotoas, Samuel Jouy, Nabi...            NaN   \n",
      "3                                                NaN            NaN   \n",
      "4  Mayur More, Jitendra Kumar, Ranjan Raj, Alam K...          India   \n",
      "\n",
      "           date_added  release_year rating   duration  \\\n",
      "0  September 25, 2021          2020  PG-13     90 min   \n",
      "1  September 24, 2021          2021  TV-MA  2 Seasons   \n",
      "2  September 24, 2021          2021  TV-MA   1 Season   \n",
      "3  September 24, 2021          2021  TV-MA   1 Season   \n",
      "4  September 24, 2021          2021  TV-MA  2 Seasons   \n",
      "\n",
      "                                           listed_in  \\\n",
      "0                                      Documentaries   \n",
      "1    International TV Shows, TV Dramas, TV Mysteries   \n",
      "2  Crime TV Shows, International TV Shows, TV Act...   \n",
      "3                             Docuseries, Reality TV   \n",
      "4  International TV Shows, Romantic TV Shows, TV ...   \n",
      "\n",
      "                                         description  \n",
      "0  As her father nears the end of his life, filmm...  \n",
      "1  After crossing paths at a party, a Cape Town t...  \n",
      "2  To protect his family from a powerful drug lor...  \n",
      "3  Feuds, flirtations and toilet talk go down amo...  \n",
      "4  In a city of coaching centers known to train I...  \n",
      "Attributes in dataset\n",
      " Index(['show_id', 'type', 'title', 'director', 'cast', 'country', 'date_added',\n",
      "       'release_year', 'rating', 'duration', 'listed_in', 'description'],\n",
      "      dtype='object')\n",
      "Bottom 5 records: \n",
      "      show_id     type        title         director  \\\n",
      "8802   s8803    Movie       Zodiac    David Fincher   \n",
      "8803   s8804  TV Show  Zombie Dumb              NaN   \n",
      "8804   s8805    Movie   Zombieland  Ruben Fleischer   \n",
      "8805   s8806    Movie         Zoom     Peter Hewitt   \n",
      "8806   s8807    Movie       Zubaan      Mozez Singh   \n",
      "\n",
      "                                                   cast        country  \\\n",
      "8802  Mark Ruffalo, Jake Gyllenhaal, Robert Downey J...  United States   \n",
      "8803                                                NaN            NaN   \n",
      "8804  Jesse Eisenberg, Woody Harrelson, Emma Stone, ...  United States   \n",
      "8805  Tim Allen, Courteney Cox, Chevy Chase, Kate Ma...  United States   \n",
      "8806  Vicky Kaushal, Sarah-Jane Dias, Raaghav Chanan...          India   \n",
      "\n",
      "             date_added  release_year rating   duration  \\\n",
      "8802  November 20, 2019          2007      R    158 min   \n",
      "8803       July 1, 2019          2018  TV-Y7  2 Seasons   \n",
      "8804   November 1, 2019          2009      R     88 min   \n",
      "8805   January 11, 2020          2006     PG     88 min   \n",
      "8806      March 2, 2019          2015  TV-14    111 min   \n",
      "\n",
      "                                           listed_in  \\\n",
      "8802                  Cult Movies, Dramas, Thrillers   \n",
      "8803          Kids' TV, Korean TV Shows, TV Comedies   \n",
      "8804                         Comedies, Horror Movies   \n",
      "8805              Children & Family Movies, Comedies   \n",
      "8806  Dramas, International Movies, Music & Musicals   \n",
      "\n",
      "                                            description  \n",
      "8802  A political cartoonist, a crime reporter and a...  \n",
      "8803  While living alone in a spooky town, a young g...  \n",
      "8804  Looking to survive in a world taken over by zo...  \n",
      "8805  Dragged from civilian life, a former superhero...  \n",
      "8806  A scrappy but poor boy worms his way into a ty...  \n",
      "Total no. of rows: 8807\n",
      "Total no. of columns: 12\n",
      "Datatypes of Attributes: \n",
      " show_id         object\n",
      "type            object\n",
      "title           object\n",
      "director        object\n",
      "cast            object\n",
      "country         object\n",
      "date_added      object\n",
      "release_year     int64\n",
      "rating          object\n",
      "duration        object\n",
      "listed_in       object\n",
      "description     object\n",
      "dtype: object\n",
      "<class 'pandas.core.frame.DataFrame'>\n",
      "RangeIndex: 8807 entries, 0 to 8806\n",
      "Data columns (total 12 columns):\n",
      " #   Column        Non-Null Count  Dtype \n",
      "---  ------        --------------  ----- \n",
      " 0   show_id       8807 non-null   object\n",
      " 1   type          8807 non-null   object\n",
      " 2   title         8807 non-null   object\n",
      " 3   director      6173 non-null   object\n",
      " 4   cast          7982 non-null   object\n",
      " 5   country       7976 non-null   object\n",
      " 6   date_added    8797 non-null   object\n",
      " 7   release_year  8807 non-null   int64 \n",
      " 8   rating        8803 non-null   object\n",
      " 9   duration      8804 non-null   object\n",
      " 10  listed_in     8807 non-null   object\n",
      " 11  description   8807 non-null   object\n",
      "dtypes: int64(1), object(11)\n",
      "memory usage: 825.8+ KB\n",
      "Information about the dataframe:\n",
      " None\n",
      "Summary Statistics details: \n",
      "        release_year\n",
      "count   8807.000000\n",
      "mean    2014.180198\n",
      "std        8.819312\n",
      "min     1925.000000\n",
      "25%     2013.000000\n",
      "50%     2017.000000\n",
      "75%     2019.000000\n",
      "max     2021.000000\n"
     ]
    }
   ],
   "source": [
    "import pandas as pd\n",
    "\n",
    "df = pd.read_csv(\"C:\\\\Academic\\\\Data Mining\\\\summer2023Assignment1\\\\summer2023Assignment1\\\\Batch1\\\\Python\\\\netflix_titles.csv\")\n",
    "\n",
    "print('Top 5 records:\\n',df.head())\n",
    "print('Attributes in dataset\\n',df.columns)\n",
    "print('Bottom 5 records: \\n',df.tail())\n",
    "print('Total no. of rows:',df.shape[0])\n",
    "print('Total no. of columns:',df.shape[1])\n",
    "print('Datatypes of Attributes: \\n',df.dtypes)\n",
    "print('Information about the dataframe:\\n',df.info())\n",
    "print('Summary Statistics details: \\n',df.describe())"
   ]
  },
  {
   "cell_type": "markdown",
   "id": "ea2808b7",
   "metadata": {},
   "source": [
    "### Task 1B: 3 points\n",
    "1. Check for null values within each column.\n",
    "2. Fill the values for more than 100 missing columns with certain label such as No Director, Country Unavailable, etc. Drop the rows for the rest missing columns."
   ]
  },
  {
   "cell_type": "code",
   "execution_count": 16,
   "id": "a2ec531a",
   "metadata": {},
   "outputs": [
    {
     "name": "stdout",
     "output_type": "stream",
     "text": [
      "show_id            0\n",
      "type               0\n",
      "title              0\n",
      "director        2634\n",
      "cast             825\n",
      "country          831\n",
      "date_added        10\n",
      "release_year       0\n",
      "rating             4\n",
      "duration           3\n",
      "listed_in          0\n",
      "description        0\n",
      "dtype: int64\n"
     ]
    }
   ],
   "source": [
    "#Check for null values within each column\n",
    "\n",
    "print(df.isnull().sum())"
   ]
  },
  {
   "cell_type": "code",
   "execution_count": 17,
   "id": "b35d21b2",
   "metadata": {},
   "outputs": [],
   "source": [
    "for attribute,count in df.isnull().sum().items():\n",
    "    if count > 100:\n",
    "        if(attribute==\"director\"):\n",
    "            replacedValue=\"No Director\"\n",
    "        elif(attribute==\"country\"):\n",
    "            replacedValue=\"Country Unavailable\"\n",
    "        elif(attribute==\"cast\"):\n",
    "            replacedValue=\"No Cast\"   \n",
    "        df[attribute].fillna(replacedValue, inplace=True)\n",
    "    else:\n",
    "        df.dropna(subset=[attribute], inplace=True)"
   ]
  },
  {
   "cell_type": "code",
   "execution_count": 18,
   "id": "7477f5c1",
   "metadata": {},
   "outputs": [
    {
     "name": "stdout",
     "output_type": "stream",
     "text": [
      "show_id         0\n",
      "type            0\n",
      "title           0\n",
      "director        0\n",
      "cast            0\n",
      "country         0\n",
      "date_added      0\n",
      "release_year    0\n",
      "rating          0\n",
      "duration        0\n",
      "listed_in       0\n",
      "description     0\n",
      "dtype: int64\n"
     ]
    }
   ],
   "source": [
    "print(df.isnull().sum())"
   ]
  },
  {
   "cell_type": "markdown",
   "id": "45c9fb71",
   "metadata": {},
   "source": [
    "### Task 1C: 5 points\n",
    "Display a two horizontal bar chart side by side for Top 10 countries with total number of movies and TV shows."
   ]
  },
  {
   "cell_type": "code",
   "execution_count": 19,
   "id": "4ca8c2f3",
   "metadata": {},
   "outputs": [
    {
     "data": {
      "image/png": "[encoded data removed]",
      "text/plain": [
       "<Figure size 1200x600 with 2 Axes>"
      ]
     },
     "metadata": {},
     "output_type": "display_data"
    }
   ],
   "source": [
    "import matplotlib.pyplot as plt\n",
    "\n",
    "\n",
    "movies_counts = df[df['type'] == 'Movie']['country'].value_counts().nlargest(10)\n",
    "tv_shows_counts = df[df['type'] == 'TV Show']['country'].value_counts().nlargest(10)\n",
    "\n",
    "\n",
    "fig, (axis1, axis2) = plt.subplots(1, 2, figsize=(12, 6))\n",
    "\n",
    "axis1.barh(movies_counts.index, movies_counts.values)\n",
    "axis1.set_xlabel('Count')\n",
    "axis1.set_ylabel('Country')\n",
    "axis1.set_title('Top 10 Countries with the Highest Number of Movies')\n",
    "\n",
    "\n",
    "axis2.barh(tv_shows_counts.index, tv_shows_counts.values)\n",
    "axis2.set_xlabel('Count')\n",
    "axis2.set_ylabel('Country')\n",
    "axis2.set_title('Top 10 Countries with the Highest Number of TV Shows')\n",
    "\n",
    "\n",
    "plt.subplots_adjust(wspace=0.5)\n",
    "\n",
    "\n",
    "plt.show()"
   ]
  },
  {
   "cell_type": "markdown",
   "id": "4d4da487",
   "metadata": {},
   "source": [
    "### Task 1D: 4 points\n",
    "\n",
    "Print the first row based on the longest duration time of a movie from each country column with its director, date_added, release_year, duration of the movie and its description. "
   ]
  },
  {
   "cell_type": "code",
   "execution_count": 8,
   "id": "9c64b73c",
   "metadata": {},
   "outputs": [
    {
     "name": "stdout",
     "output_type": "stream",
     "text": [
      "                                                country  \\\n",
      "365                                   , France, Algeria   \n",
      "2465                                          Argentina   \n",
      "4947  Argentina, Brazil, France, Poland, Germany, De...   \n",
      "1261                                   Argentina, Chile   \n",
      "7362                             Argentina, Chile, Peru   \n",
      "...                                                 ...   \n",
      "6675                                          Venezuela   \n",
      "7692                                Venezuela, Colombia   \n",
      "569                                             Vietnam   \n",
      "5612                                       West Germany   \n",
      "2446                                           Zimbabwe   \n",
      "\n",
      "                                   director         date_added  release_year  \\\n",
      "365                            Najwa Najjar      July 30, 2021          2014   \n",
      "2465                      Alejandro Montiel       May 28, 2020          2020   \n",
      "4947                           Diego Lerman      April 1, 2018          2017   \n",
      "1261                          Pablo Larraín  February 26, 2021          2006   \n",
      "7362                        Ticoy Rodriguez      July 15, 2016          2015   \n",
      "...                                     ...                ...           ...   \n",
      "6675                       Matías Gueilburt   October 15, 2017          2017   \n",
      "7692                          Jorge Granier     March 23, 2018          2007   \n",
      "569                               Victor Vu       July 1, 2021          2019   \n",
      "5612  Joachim Fest, Christian Herrendoerfer  February 10, 2017          1977   \n",
      "2446                        Tomas Brickhill       June 1, 2020          2017   \n",
      "\n",
      "     duration                                        description  \n",
      "365   103 min  After a decade in prison, a Palestinian man wi...  \n",
      "2465  116 min  Police officer Pipa works on her first big cas...  \n",
      "4947   96 min  An Argentine doctor faces legal and ethical ch...  \n",
      "1261  112 min  A struggling music student discovers and tries...  \n",
      "7362  100 min  Three men from different nations must find the...  \n",
      "...       ...                                                ...  \n",
      "6675  119 min  Spanish-Mexican writer Paco Ignacio Taibo II h...  \n",
      "7692   82 min  This documentary traces the steps of druglord ...  \n",
      "569   117 min  Through heartbreak and betrayal, Ngan's unrequ...  \n",
      "5612  150 min  This documentary examines how Adolf Hitler's t...  \n",
      "2446  100 min  Yearning for a better life, a single mother wi...  \n",
      "\n",
      "[652 rows x 6 columns]\n"
     ]
    }
   ],
   "source": [
    "movies_data = df[df['type'] == 'Movie'].copy()\n",
    "movies_data.loc[:, 'duration_in_mins'] = movies_data['duration'].str.replace(' min', '').astype(float).astype('Int64')\n",
    "\n",
    "idx = movies_data.groupby('country')['duration_in_mins'].idxmax()\n",
    "\n",
    "longest_duration_movies = movies_data.loc[idx, ['country','director', 'date_added', 'release_year', 'duration', 'description']]\n",
    "print(longest_duration_movies)"
   ]
  },
  {
   "cell_type": "markdown",
   "id": "d1298217",
   "metadata": {},
   "source": [
    "### Task 1E: 4 points\n",
    "Display the titleof the movie, its director, the date it was added to the platform and the date it was officially released where the official release date and the date it was added to the plafform has same year."
   ]
  },
  {
   "cell_type": "code",
   "execution_count": 21,
   "id": "931a33f6",
   "metadata": {
    "scrolled": true
   },
   "outputs": [
    {
     "name": "stdout",
     "output_type": "stream",
     "text": [
      "                                 title  \\\n",
      "6     My Little Pony: A New Generation   \n",
      "9                         The Starling   \n",
      "12                        Je Suis Karl   \n",
      "13    Confessions of an Invisible Girl   \n",
      "18                           Intrusion   \n",
      "...                                ...   \n",
      "8765                                XX   \n",
      "8781           Yo-Kai Watch: The Movie   \n",
      "8782                       Yoga Hosers   \n",
      "8786                      You Can Tutu   \n",
      "8787         You Can’t Fight Christmas   \n",
      "\n",
      "                                               director date_added  \\\n",
      "6                         Robert Cullen, José Luis Ucha 2021-09-24   \n",
      "9                                        Theodore Melfi 2021-09-24   \n",
      "12                                  Christian Schwochow 2021-09-23   \n",
      "13                                        Bruno Garotti 2021-09-22   \n",
      "18                                           Adam Salky 2021-09-22   \n",
      "...                                                 ...        ...   \n",
      "8765  Jovanka Vuckovic, Annie Clark, Roxanne Benjami... 2017-06-22   \n",
      "8781                                        Mark Risley 2016-12-01   \n",
      "8782                                        Kevin Smith 2016-12-02   \n",
      "8786                                        James Brown 2017-12-31   \n",
      "8787                                        Kenny Young 2017-12-19   \n",
      "\n",
      "      release_year  \n",
      "6             2021  \n",
      "9             2021  \n",
      "12            2021  \n",
      "13            2021  \n",
      "18            2021  \n",
      "...            ...  \n",
      "8765          2017  \n",
      "8781          2016  \n",
      "8782          2016  \n",
      "8786          2017  \n",
      "8787          2017  \n",
      "\n",
      "[1860 rows x 4 columns]\n"
     ]
    }
   ],
   "source": [
    "movies= df[df['type'] == 'Movie'].copy()\n",
    "\n",
    "movies['date_added'] = pd.to_datetime(movies['date_added'])\n",
    "filtered_movies = movies[movies['release_year'] == movies['date_added'].dt.year]\n",
    "\n",
    "\n",
    "print(filtered_movies[['title', 'director', 'date_added', 'release_year']])"
   ]
  },
  {
   "cell_type": "markdown",
   "id": "294ff5e6",
   "metadata": {},
   "source": [
    "### Task 1F: 4 points\n",
    "Display Director, the release year and number of movies and TV Shows directed by that director within a year and sort the results from highest."
   ]
  },
  {
   "cell_type": "code",
   "execution_count": 10,
   "id": "c686854d",
   "metadata": {},
   "outputs": [
    {
     "name": "stdout",
     "output_type": "stream",
     "text": [
      "                  director  release_year  count\n",
      "3924           No Director          2020    405\n",
      "3923           No Director          2019    401\n",
      "3922           No Director          2018    386\n",
      "3925           No Director          2021    295\n",
      "3921           No Director          2017    258\n",
      "...                    ...           ...    ...\n",
      "2011  Hrishikesh Mukherjee          1975      1\n",
      "2010  Hrishikesh Mukherjee          1972      1\n",
      "2009          Hoyt Yeatman          2009      1\n",
      "2008          Howard Zieff          1994      1\n",
      "5947          Şenol Sönmez          2019      1\n",
      "\n",
      "[5948 rows x 3 columns]\n"
     ]
    }
   ],
   "source": [
    "\n",
    "movies_tvshows_data = df[df['type'].isin(['Movie', 'TV Show'])]\n",
    "director_count = movies_tvshows_data.groupby(['director', 'release_year']).size().reset_index(name='count').sort_values('count', ascending = False)\n",
    "desired_columns = ['director', 'release_year','count']\n",
    "print(director_count[desired_columns])"
   ]
  },
  {
   "cell_type": "markdown",
   "id": "af3e8a78",
   "metadata": {},
   "source": [
    "### Task 1G: 3 points\n",
    "Display the title of the movie/TV shows, the Director, the date it was added to netflix and the category it was listed in from the data which belongs to Documentary/Docuseries category."
   ]
  },
  {
   "cell_type": "code",
   "execution_count": 11,
   "id": "0b6de1b6",
   "metadata": {},
   "outputs": [
    {
     "name": "stdout",
     "output_type": "stream",
     "text": [
      "                                            title  \\\n",
      "0                            Dick Johnson Is Dead   \n",
      "45                         My Heroes Were Cowboys   \n",
      "117                                 Final Account   \n",
      "181     Turning Point: 9/11 and the War on Terror   \n",
      "221   Bob Ross: Happy Accidents, Betrayal & Greed   \n",
      "...                                           ...   \n",
      "8723                     What Makes a Psychopath?   \n",
      "8737                   Why Are We Getting So Fat?   \n",
      "8738                                     Why Knot   \n",
      "8739           Why We Fight: The Battle of Russia   \n",
      "8763              WWII: Report from the Aleutians   \n",
      "\n",
      "                                    director          date_added  \\\n",
      "0                            Kirsten Johnson  September 25, 2021   \n",
      "45                               Tyler Greco  September 16, 2021   \n",
      "117                             Luke Holland   September 2, 2021   \n",
      "181                              No Director   September 1, 2021   \n",
      "221                              Joshua Rofé     August 25, 2021   \n",
      "...                                      ...                 ...   \n",
      "8723                        Rebecca Harrison    February 1, 2019   \n",
      "8737  Milla Harrison-Hansley, Alicky Sussman    February 1, 2019   \n",
      "8738                            Dhruv Dhawan    October 15, 2017   \n",
      "8739             Frank Capra, Anatole Litvak      March 31, 2017   \n",
      "8763                             John Huston      March 31, 2017   \n",
      "\n",
      "          listed_in  \n",
      "0     Documentaries  \n",
      "45    Documentaries  \n",
      "117   Documentaries  \n",
      "181      Docuseries  \n",
      "221   Documentaries  \n",
      "...             ...  \n",
      "8723  Documentaries  \n",
      "8737  Documentaries  \n",
      "8738  Documentaries  \n",
      "8739  Documentaries  \n",
      "8763  Documentaries  \n",
      "\n",
      "[443 rows x 4 columns]\n"
     ]
    }
   ],
   "source": [
    "categorized_data = df[(df['type'].isin(['Movie', 'TV Show'])) & (df['listed_in'].isin(['Documentaries', 'Docuseries']))] \n",
    "print(categorized_data[['title', 'director', 'date_added', 'listed_in']])"
   ]
  },
  {
   "cell_type": "markdown",
   "id": "973f0aa8",
   "metadata": {},
   "source": [
    "### Task 1H : 4 points\n",
    "\n",
    "Display title, the date it was added to the plaform, type of category it was listed in and its description for Family Dramas.\n",
    "\n",
    "Hint: Use Description to look for type of Drama."
   ]
  },
  {
   "cell_type": "code",
   "execution_count": 41,
   "id": "a62fa6b8",
   "metadata": {},
   "outputs": [
    {
     "name": "stdout",
     "output_type": "stream",
     "text": [
      "                        title         date_added  \\\n",
      "2275                     Hook       July 5, 2020   \n",
      "2780                   Curtiz     March 25, 2020   \n",
      "2880  I Am Not Okay With This  February 26, 2020   \n",
      "2997          October Faction   January 23, 2020   \n",
      "3176  Three Days of Christmas   December 6, 2019   \n",
      "6993             Hope Aur Hum  September 1, 2018   \n",
      "7039                 I Am Me!      March 3, 2017   \n",
      "\n",
      "                                              listed_in  \\\n",
      "2275  International TV Shows, Romantic TV Shows, TV ...   \n",
      "2780                       Dramas, International Movies   \n",
      "2880        TV Comedies, TV Dramas, TV Sci-Fi & Fantasy   \n",
      "2997        TV Action & Adventure, TV Dramas, TV Horror   \n",
      "3176  International TV Shows, Spanish-Language TV Sh...   \n",
      "6993         Children & Family Movies, Comedies, Dramas   \n",
      "7039  International TV Shows, Spanish-Language TV Sh...   \n",
      "\n",
      "                                            description  \n",
      "2275  Despite their fathers' rivalry, two university...  \n",
      "2780  Driven and arrogant, film director Michael Cur...  \n",
      "2880  Angsty Syd navigates high school awkwardness, ...  \n",
      "2997  The family drama gets downright monstrous as p...  \n",
      "3176  Four sisters deal with family drama and secret...  \n",
      "6993  A multigenerational household navigates daily ...  \n",
      "7039  Aspiring hip-hop star Francisco builds a name ...  \n"
     ]
    }
   ],
   "source": [
    "\n",
    "family_drama_movies = movies_tvshows_data[movies_tvshows_data['description'].str.contains('Family Drama', case=False)]\n",
    "filtered_family_data = family_drama_movies[['title', 'date_added', 'listed_in','description']]\n",
    "print(filtered_family_data)\n"
   ]
  },
  {
   "cell_type": "markdown",
   "id": "b5b65fa7",
   "metadata": {},
   "source": [
    "### Task 1I: 5 points\n",
    "\n",
    "Plot the Distribution of TV shows based on their number of seasons.(horizontal bar chart)\n",
    "1. Less than 3 seasons\n",
    "2. 3 Seasons\n",
    "3. 4 Seasons\n",
    "4. 5 to less than 10 seasons.\n",
    "5. 10 or more seasons."
   ]
  },
  {
   "cell_type": "code",
   "execution_count": 17,
   "id": "cacd0a9b",
   "metadata": {},
   "outputs": [
    {
     "data": {
      "image/png": "[encoded data removed]",
      "text/plain": [
       "<Figure size 640x480 with 1 Axes>"
      ]
     },
     "metadata": {},
     "output_type": "display_data"
    }
   ],
   "source": [
    "\n",
    "tv_shows = df[df['type'] == 'TV Show']\n",
    "\n",
    "# Group TV shows by the number of seasons\n",
    "season_counts = tv_shows['duration'].value_counts()\n",
    "# print(season_counts.head())\n",
    "# print(season_counts.index)\n",
    "\n",
    "\n",
    "season_counts.index = season_counts.index.str.replace(\"Seasons\", \"\")\n",
    "season_counts.index = season_counts.index.str.replace(\"Season\", \"\")\n",
    "season_counts.index = pd.to_numeric(season_counts.index,errors='coerce')\n",
    "# print(season_counts.index)\n",
    "\n",
    "# Define the season categories\n",
    "categories = {\n",
    "    'Less than 3 seasons': (season_counts.values[season_counts.index < 3].sum()),\n",
    "    '3 seasons': (season_counts.values[season_counts.index == 3].sum()),\n",
    "    '4 seasons': (season_counts.values[season_counts.index == 4].sum()),\n",
    "    '5 to less than 10 seasons': (season_counts.values[(season_counts.index >= 5) & (season_counts.index < 10)].sum()),\n",
    "    '10 or more seasons': (season_counts.values[season_counts.index >= 10].sum())\n",
    "}\n",
    "\n",
    "\n",
    "# print(list(categories.keys()), list(categories.values()))\n",
    "# Create a horizontal bar chart\n",
    "plt.barh(list(categories.keys()), list(categories.values()))\n",
    "plt.xlabel('Count')\n",
    "plt.ylabel('Number of Seasons')\n",
    "plt.title('Distribution of TV Shows by Number of Seasons')\n",
    "plt.show()\n"
   ]
  },
  {
   "cell_type": "markdown",
   "id": "719280e2",
   "metadata": {},
   "source": [
    "### Task 1J: 6 points\n",
    "\n",
    "Display a side by side pie chart where it shows different rating a movie and a TV show belongs to.\n",
    "\n",
    "Movie:\n",
    "1. Uncut/Not rated\n",
    "2. Restricted\n",
    "3. Parentel guidance\n",
    "4. General audience\n",
    "5. Adults only\n",
    "\n",
    "TV Show:\n",
    "1. All Children\n",
    "2. Older Children\n",
    "3. Parentel Presence\n",
    "4. General audience\n",
    "5. Mature"
   ]
  },
  {
   "cell_type": "code",
   "execution_count": 18,
   "id": "5506abe8",
   "metadata": {},
   "outputs": [
    {
     "data": {
      "image/png": "[encoded data removed]",
      "text/plain": [
       "<Figure size 1000x500 with 2 Axes>"
      ]
     },
     "metadata": {},
     "output_type": "display_data"
    }
   ],
   "source": [
    "\n",
    "import matplotlib.pyplot as plt\n",
    "\n",
    "tv_shows = df[df['type'] == 'TV Show']\n",
    "tv_shows_rating_count = tv_shows['rating'].value_counts()\n",
    "\n",
    "movies= df[df['type'] == 'Movie']\n",
    "movies_rating_count = movies['rating'].value_counts()\n",
    "\n",
    "tv_shows_categories = {\n",
    "    'All Children': (tv_shows_rating_count.values[tv_shows_rating_count.index == 'TV-Y'])[0],\n",
    "    'Older Children': (tv_shows_rating_count.values[tv_shows_rating_count.index == 'TV-Y7'] +tv_shows_rating_count.values[tv_shows_rating_count.index == 'TV-Y7-FV'])[0] ,\n",
    "    'Parental Presence': (tv_shows_rating_count.values[tv_shows_rating_count.index == 'TV-PG'])[0],\n",
    "    'General audience': (tv_shows_rating_count.values[tv_shows_rating_count.index == 'TV-G'])[0],\n",
    "    'Mature': (tv_shows_rating_count.values[tv_shows_rating_count.index == 'TV-MA'])[0]\n",
    "}\n",
    "\n",
    "movies_categories = {\n",
    "    'Uncut/Not rated': (movies_rating_count.values[movies_rating_count.index == 'NR'])[0],\n",
    "    'Restricted': (movies_rating_count.values[movies_rating_count.index == 'R'])[0] ,\n",
    "    'Parental guidance': (movies_rating_count.values[movies_rating_count.index == 'PG'] +movies_rating_count.values[movies_rating_count.index == 'PG-13'])[0],\n",
    "    'General audience': (movies_rating_count.values[movies_rating_count.index == 'G'])[0],\n",
    "    'Adults only': (movies_rating_count.values[movies_rating_count.index == 'NC-17'])[0]\n",
    "}\n",
    "\n",
    "# print(list(movies_categories.keys()), list(movies_categories.values()))\n",
    "labels_tv = list(tv_shows_categories.keys())\n",
    "sizes_tv = list(tv_shows_categories.values())\n",
    "\n",
    "labels_movies = list(movies_categories.keys())\n",
    "sizes_movies = list(movies_categories.values())\n",
    "\n",
    "fig, (axis1, axis2) = plt.subplots(1, 2, figsize=(10, 5))\n",
    "\n",
    "axis1.pie(sizes_tv, labels=labels_tv, autopct='%1.1f%%', startangle=90)\n",
    "axis1.axis('equal')\n",
    "axis1.set_title('Distribution of TV Shows by Rating')\n",
    "\n",
    "axis2.pie(sizes_movies, labels=labels_movies, autopct='%1.1f%%', startangle=90)\n",
    "axis2.axis('equal')\n",
    "axis2.set_title('Distribution of Movies by Rating')\n",
    "\n",
    "plt.tight_layout()\n",
    "plt.show()\n"
   ]
  }
 ],
 "metadata": {
  "kernelspec": {
   "display_name": "Python 3 (ipykernel)",
   "language": "python",
   "name": "python3"
  },
  "language_info": {
   "codemirror_mode": {
    "name": "ipython",
    "version": 3
   },
   "file_extension": ".py",
   "mimetype": "text/x-python",
   "name": "python",
   "nbconvert_exporter": "python",
   "pygments_lexer": "ipython3",
   "version": "3.11.3"
  }
 },
 "nbformat": 4,
 "nbformat_minor": 5
}
